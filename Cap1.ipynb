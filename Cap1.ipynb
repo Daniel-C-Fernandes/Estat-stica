{
 "cells": [
  {
   "cell_type": "markdown",
   "metadata": {},
   "source": [
    "# Tópicos de Estatística e Probabilidade\n",
    "\n",
    "## Capítulo 1: Introdução"
   ]
  },
  {
   "cell_type": "markdown",
   "metadata": {},
   "source": [
    "<div style=\"justify\">\n",
    "\n",
    "$\\hspace{1cm}$ A palavra \"Estatística\" originou-se da palavra latina <i>\"status\"</i>, que significa <i>\"Estado\"</i> e é um ramo da matemática aplicada.\n",
    "\n",
    "Os grandes avanços do século XX fizeram a Estatística assumir o seu papel atual, como a <b>disciplina de raciocínio baseado em dados</b>.\n",
    "\n",
    "Os dados são obtidos mediante <i>planejamento</i> de <b>estudos experimentais</b> ou de <b>estudos observacionais</b>.\n",
    "\n",
    "Nos <b>ESTUDOS EXPERIMENTAIS</b> os dados são obtidos sob condições controladas.\n",
    "\n",
    "Nos <b>ESTUDOS OBSERVACIONAIS</b> as condições não podem ser controladas, trata-se do levantamento de informações.\n",
    "\n",
    "</div>"
   ]
  }
 ],
 "metadata": {
  "kernelspec": {
   "display_name": "Julia 1.9.3",
   "language": "julia",
   "name": "julia-1.9"
  },
  "language_info": {
   "file_extension": ".jl",
   "mimetype": "application/julia",
   "name": "julia",
   "version": "1.9.3"
  }
 },
 "nbformat": 4,
 "nbformat_minor": 2
}

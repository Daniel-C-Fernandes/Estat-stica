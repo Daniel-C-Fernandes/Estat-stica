{
 "cells": [
  {
   "cell_type": "markdown",
   "metadata": {},
   "source": [
    "# Tópicos de Estatística e Probabilidade\n",
    "\n",
    "## Capítulo 1: Introdução"
   ]
  },
  {
   "cell_type": "markdown",
   "metadata": {},
   "source": [
    "<div style=\"justify\">\n",
    "\n",
    "$\\hspace{1cm}$ A palavra \"Estatística\" originou-se da palavra latina <i>\"status\"</i>, que significa <i>\"Estado\"</i> e é um ramo da matemática aplicada.\n",
    "\n",
    "Os grandes avanços do século XX fizeram a Estatística assumir o seu papel atual, como a <b>disciplina de raciocínio baseado em dados</b>.\n",
    "\n",
    "</div>"
   ]
  },
  {
   "cell_type": "code",
   "execution_count": 2,
   "metadata": {},
   "outputs": [
    {
     "data": {
      "text/plain": [
       "5"
      ]
     },
     "execution_count": 2,
     "metadata": {},
     "output_type": "execute_result"
    }
   ],
   "source": [
    "2+3"
   ]
  }
 ],
 "metadata": {
  "kernelspec": {
   "display_name": "Julia 1.9.3",
   "language": "julia",
   "name": "julia-1.9"
  },
  "language_info": {
   "file_extension": ".jl",
   "mimetype": "application/julia",
   "name": "julia",
   "version": "1.9.3"
  }
 },
 "nbformat": 4,
 "nbformat_minor": 2
}
